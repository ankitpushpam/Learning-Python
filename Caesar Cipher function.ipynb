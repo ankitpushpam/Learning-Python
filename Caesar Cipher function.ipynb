{
 "cells": [
  {
   "cell_type": "code",
   "execution_count": 1,
   "metadata": {},
   "outputs": [],
   "source": [
    "def enter(originl_str,integer ):\n",
    "\n",
    "    print(originl_str,integer)\n",
    "    shift_1 = []\n",
    "    for char in originl_str:\n",
    "       shift = integer + ord(char)\n",
    "       shift_1.append(chr(shift))\n",
    "    shift_str = ''.join(shift_1)\n",
    "    return shift_str"
   ]
  },
  {
   "cell_type": "code",
   "execution_count": 3,
   "metadata": {},
   "outputs": [
    {
     "name": "stdout",
     "output_type": "stream",
     "text": [
      "enter a string abc\n",
      "enter a interger 1\n",
      "abc 1\n"
     ]
    },
    {
     "data": {
      "text/plain": [
       "'bcd'"
      ]
     },
     "execution_count": 3,
     "metadata": {},
     "output_type": "execute_result"
    }
   ],
   "source": [
    "Enter_String = input('enter a string ')\n",
    "Enter_integer = int(input('enter a interger '))\n",
    "enter(Enter_String,Enter_integer)"
   ]
  },
  {
   "cell_type": "code",
   "execution_count": 9,
   "metadata": {},
   "outputs": [
    {
     "name": "stdout",
     "output_type": "stream",
     "text": [
      "a\n"
     ]
    }
   ],
   "source": [
    "a = 'b'\n",
    "c = ord(a)\n",
    "print(chr(c-1))"
   ]
  },
  {
   "cell_type": "code",
   "execution_count": null,
   "metadata": {},
   "outputs": [],
   "source": []
  }
 ],
 "metadata": {
  "kernelspec": {
   "display_name": "Python 3",
   "language": "python",
   "name": "python3"
  },
  "language_info": {
   "codemirror_mode": {
    "name": "ipython",
    "version": 3
   },
   "file_extension": ".py",
   "mimetype": "text/x-python",
   "name": "python",
   "nbconvert_exporter": "python",
   "pygments_lexer": "ipython3",
   "version": "3.7.4"
  }
 },
 "nbformat": 4,
 "nbformat_minor": 4
}
